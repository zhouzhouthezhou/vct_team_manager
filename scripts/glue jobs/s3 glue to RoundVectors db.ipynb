{
	"metadata": {
		"colab": {
			"provenance": []
		},
		"kernelspec": {
			"name": "glue_pyspark",
			"display_name": "Glue PySpark",
			"language": "python"
		},
		"language_info": {
			"name": "Python_Glue_Session",
			"mimetype": "text/x-python",
			"codemirror_mode": {
				"name": "python",
				"version": 3
			},
			"pygments_lexer": "python3",
			"file_extension": ".py"
		},
		"widgets": {
			"application/vnd.jupyter.widget-state+json": {
				"7bebd9d80e5047319379fac760bd47b0": {
					"model_module": "@jupyter-widgets/controls",
					"model_name": "HBoxModel",
					"model_module_version": "1.5.0",
					"state": {
						"_dom_classes": [],
						"_model_module": "@jupyter-widgets/controls",
						"_model_module_version": "1.5.0",
						"_model_name": "HBoxModel",
						"_view_count": null,
						"_view_module": "@jupyter-widgets/controls",
						"_view_module_version": "1.5.0",
						"_view_name": "HBoxView",
						"box_style": "",
						"children": [
							"IPY_MODEL_6e175c5c6082482e9716874acebbf8c4",
							"IPY_MODEL_18351ba115ef4593a61602cde7d15b88",
							"IPY_MODEL_f358320028a54f26b6a00d9cfd3abc5f"
						],
						"layout": "IPY_MODEL_39886dea080d4ee88d37674d3b87bcb1"
					}
				},
				"6e175c5c6082482e9716874acebbf8c4": {
					"model_module": "@jupyter-widgets/controls",
					"model_name": "HTMLModel",
					"model_module_version": "1.5.0",
					"state": {
						"_dom_classes": [],
						"_model_module": "@jupyter-widgets/controls",
						"_model_module_version": "1.5.0",
						"_model_name": "HTMLModel",
						"_view_count": null,
						"_view_module": "@jupyter-widgets/controls",
						"_view_module_version": "1.5.0",
						"_view_name": "HTMLView",
						"description": "",
						"description_tooltip": null,
						"layout": "IPY_MODEL_a86ebf5cc50e4da59117b6ef63589eec",
						"placeholder": "​",
						"style": "IPY_MODEL_a04ebc2131f742b28f1d26f01a222be0",
						"value": "100%"
					}
				},
				"18351ba115ef4593a61602cde7d15b88": {
					"model_module": "@jupyter-widgets/controls",
					"model_name": "FloatProgressModel",
					"model_module_version": "1.5.0",
					"state": {
						"_dom_classes": [],
						"_model_module": "@jupyter-widgets/controls",
						"_model_module_version": "1.5.0",
						"_model_name": "FloatProgressModel",
						"_view_count": null,
						"_view_module": "@jupyter-widgets/controls",
						"_view_module_version": "1.5.0",
						"_view_name": "ProgressView",
						"bar_style": "success",
						"description": "",
						"description_tooltip": null,
						"layout": "IPY_MODEL_f06d7c86d07540d49e43c97059ebb37d",
						"max": 5,
						"min": 0,
						"orientation": "horizontal",
						"style": "IPY_MODEL_96f21fecb7124adb9a5517b59f87d252",
						"value": 5
					}
				},
				"f358320028a54f26b6a00d9cfd3abc5f": {
					"model_module": "@jupyter-widgets/controls",
					"model_name": "HTMLModel",
					"model_module_version": "1.5.0",
					"state": {
						"_dom_classes": [],
						"_model_module": "@jupyter-widgets/controls",
						"_model_module_version": "1.5.0",
						"_model_name": "HTMLModel",
						"_view_count": null,
						"_view_module": "@jupyter-widgets/controls",
						"_view_module_version": "1.5.0",
						"_view_name": "HTMLView",
						"description": "",
						"description_tooltip": null,
						"layout": "IPY_MODEL_95f0a0b0aef84166b71370b5401e77e9",
						"placeholder": "​",
						"style": "IPY_MODEL_14f27aa75b644a719898dc117c3d938f",
						"value": " 5/5 [00:00&lt;00:00, 220.47it/s]"
					}
				},
				"39886dea080d4ee88d37674d3b87bcb1": {
					"model_module": "@jupyter-widgets/base",
					"model_name": "LayoutModel",
					"model_module_version": "1.2.0",
					"state": {
						"_model_module": "@jupyter-widgets/base",
						"_model_module_version": "1.2.0",
						"_model_name": "LayoutModel",
						"_view_count": null,
						"_view_module": "@jupyter-widgets/base",
						"_view_module_version": "1.2.0",
						"_view_name": "LayoutView",
						"align_content": null,
						"align_items": null,
						"align_self": null,
						"border": null,
						"bottom": null,
						"display": null,
						"flex": null,
						"flex_flow": null,
						"grid_area": null,
						"grid_auto_columns": null,
						"grid_auto_flow": null,
						"grid_auto_rows": null,
						"grid_column": null,
						"grid_gap": null,
						"grid_row": null,
						"grid_template_areas": null,
						"grid_template_columns": null,
						"grid_template_rows": null,
						"height": null,
						"justify_content": null,
						"justify_items": null,
						"left": null,
						"margin": null,
						"max_height": null,
						"max_width": null,
						"min_height": null,
						"min_width": null,
						"object_fit": null,
						"object_position": null,
						"order": null,
						"overflow": null,
						"overflow_x": null,
						"overflow_y": null,
						"padding": null,
						"right": null,
						"top": null,
						"visibility": null,
						"width": null
					}
				},
				"a86ebf5cc50e4da59117b6ef63589eec": {
					"model_module": "@jupyter-widgets/base",
					"model_name": "LayoutModel",
					"model_module_version": "1.2.0",
					"state": {
						"_model_module": "@jupyter-widgets/base",
						"_model_module_version": "1.2.0",
						"_model_name": "LayoutModel",
						"_view_count": null,
						"_view_module": "@jupyter-widgets/base",
						"_view_module_version": "1.2.0",
						"_view_name": "LayoutView",
						"align_content": null,
						"align_items": null,
						"align_self": null,
						"border": null,
						"bottom": null,
						"display": null,
						"flex": null,
						"flex_flow": null,
						"grid_area": null,
						"grid_auto_columns": null,
						"grid_auto_flow": null,
						"grid_auto_rows": null,
						"grid_column": null,
						"grid_gap": null,
						"grid_row": null,
						"grid_template_areas": null,
						"grid_template_columns": null,
						"grid_template_rows": null,
						"height": null,
						"justify_content": null,
						"justify_items": null,
						"left": null,
						"margin": null,
						"max_height": null,
						"max_width": null,
						"min_height": null,
						"min_width": null,
						"object_fit": null,
						"object_position": null,
						"order": null,
						"overflow": null,
						"overflow_x": null,
						"overflow_y": null,
						"padding": null,
						"right": null,
						"top": null,
						"visibility": null,
						"width": null
					}
				},
				"a04ebc2131f742b28f1d26f01a222be0": {
					"model_module": "@jupyter-widgets/controls",
					"model_name": "DescriptionStyleModel",
					"model_module_version": "1.5.0",
					"state": {
						"_model_module": "@jupyter-widgets/controls",
						"_model_module_version": "1.5.0",
						"_model_name": "DescriptionStyleModel",
						"_view_count": null,
						"_view_module": "@jupyter-widgets/base",
						"_view_module_version": "1.2.0",
						"_view_name": "StyleView",
						"description_width": ""
					}
				},
				"f06d7c86d07540d49e43c97059ebb37d": {
					"model_module": "@jupyter-widgets/base",
					"model_name": "LayoutModel",
					"model_module_version": "1.2.0",
					"state": {
						"_model_module": "@jupyter-widgets/base",
						"_model_module_version": "1.2.0",
						"_model_name": "LayoutModel",
						"_view_count": null,
						"_view_module": "@jupyter-widgets/base",
						"_view_module_version": "1.2.0",
						"_view_name": "LayoutView",
						"align_content": null,
						"align_items": null,
						"align_self": null,
						"border": null,
						"bottom": null,
						"display": null,
						"flex": null,
						"flex_flow": null,
						"grid_area": null,
						"grid_auto_columns": null,
						"grid_auto_flow": null,
						"grid_auto_rows": null,
						"grid_column": null,
						"grid_gap": null,
						"grid_row": null,
						"grid_template_areas": null,
						"grid_template_columns": null,
						"grid_template_rows": null,
						"height": null,
						"justify_content": null,
						"justify_items": null,
						"left": null,
						"margin": null,
						"max_height": null,
						"max_width": null,
						"min_height": null,
						"min_width": null,
						"object_fit": null,
						"object_position": null,
						"order": null,
						"overflow": null,
						"overflow_x": null,
						"overflow_y": null,
						"padding": null,
						"right": null,
						"top": null,
						"visibility": null,
						"width": null
					}
				},
				"96f21fecb7124adb9a5517b59f87d252": {
					"model_module": "@jupyter-widgets/controls",
					"model_name": "ProgressStyleModel",
					"model_module_version": "1.5.0",
					"state": {
						"_model_module": "@jupyter-widgets/controls",
						"_model_module_version": "1.5.0",
						"_model_name": "ProgressStyleModel",
						"_view_count": null,
						"_view_module": "@jupyter-widgets/base",
						"_view_module_version": "1.2.0",
						"_view_name": "StyleView",
						"bar_color": null,
						"description_width": ""
					}
				},
				"95f0a0b0aef84166b71370b5401e77e9": {
					"model_module": "@jupyter-widgets/base",
					"model_name": "LayoutModel",
					"model_module_version": "1.2.0",
					"state": {
						"_model_module": "@jupyter-widgets/base",
						"_model_module_version": "1.2.0",
						"_model_name": "LayoutModel",
						"_view_count": null,
						"_view_module": "@jupyter-widgets/base",
						"_view_module_version": "1.2.0",
						"_view_name": "LayoutView",
						"align_content": null,
						"align_items": null,
						"align_self": null,
						"border": null,
						"bottom": null,
						"display": null,
						"flex": null,
						"flex_flow": null,
						"grid_area": null,
						"grid_auto_columns": null,
						"grid_auto_flow": null,
						"grid_auto_rows": null,
						"grid_column": null,
						"grid_gap": null,
						"grid_row": null,
						"grid_template_areas": null,
						"grid_template_columns": null,
						"grid_template_rows": null,
						"height": null,
						"justify_content": null,
						"justify_items": null,
						"left": null,
						"margin": null,
						"max_height": null,
						"max_width": null,
						"min_height": null,
						"min_width": null,
						"object_fit": null,
						"object_position": null,
						"order": null,
						"overflow": null,
						"overflow_x": null,
						"overflow_y": null,
						"padding": null,
						"right": null,
						"top": null,
						"visibility": null,
						"width": null
					}
				},
				"14f27aa75b644a719898dc117c3d938f": {
					"model_module": "@jupyter-widgets/controls",
					"model_name": "DescriptionStyleModel",
					"model_module_version": "1.5.0",
					"state": {
						"_model_module": "@jupyter-widgets/controls",
						"_model_module_version": "1.5.0",
						"_model_name": "DescriptionStyleModel",
						"_view_count": null,
						"_view_module": "@jupyter-widgets/base",
						"_view_module_version": "1.2.0",
						"_view_name": "StyleView",
						"description_width": ""
					}
				},
				"a8f2e609f8be427b86690659a1308bd4": {
					"model_module": "@jupyter-widgets/controls",
					"model_name": "HBoxModel",
					"model_module_version": "1.5.0",
					"state": {
						"_dom_classes": [],
						"_model_module": "@jupyter-widgets/controls",
						"_model_module_version": "1.5.0",
						"_model_name": "HBoxModel",
						"_view_count": null,
						"_view_module": "@jupyter-widgets/controls",
						"_view_module_version": "1.5.0",
						"_view_name": "HBoxView",
						"box_style": "",
						"children": [
							"IPY_MODEL_46bafadbb6c44851aa46d2f905979b8f",
							"IPY_MODEL_851786da424e4376846d97e659fcc025",
							"IPY_MODEL_7bb5e93a94ef48b0b4bbf0aba777d460"
						],
						"layout": "IPY_MODEL_29875b9d96ed46669bbaf0fba3c4ef49"
					}
				},
				"46bafadbb6c44851aa46d2f905979b8f": {
					"model_module": "@jupyter-widgets/controls",
					"model_name": "HTMLModel",
					"model_module_version": "1.5.0",
					"state": {
						"_dom_classes": [],
						"_model_module": "@jupyter-widgets/controls",
						"_model_module_version": "1.5.0",
						"_model_name": "HTMLModel",
						"_view_count": null,
						"_view_module": "@jupyter-widgets/controls",
						"_view_module_version": "1.5.0",
						"_view_name": "HTMLView",
						"description": "",
						"description_tooltip": null,
						"layout": "IPY_MODEL_eb903a52027a4bc6ae0c3342cc449665",
						"placeholder": "​",
						"style": "IPY_MODEL_6e1c2688cb4a497c83f327bbf4091781",
						"value": "100%"
					}
				},
				"851786da424e4376846d97e659fcc025": {
					"model_module": "@jupyter-widgets/controls",
					"model_name": "FloatProgressModel",
					"model_module_version": "1.5.0",
					"state": {
						"_dom_classes": [],
						"_model_module": "@jupyter-widgets/controls",
						"_model_module_version": "1.5.0",
						"_model_name": "FloatProgressModel",
						"_view_count": null,
						"_view_module": "@jupyter-widgets/controls",
						"_view_module_version": "1.5.0",
						"_view_name": "ProgressView",
						"bar_style": "success",
						"description": "",
						"description_tooltip": null,
						"layout": "IPY_MODEL_552d7f909f5c44459d83eb98b3e8f388",
						"max": 1742,
						"min": 0,
						"orientation": "horizontal",
						"style": "IPY_MODEL_11c959c921b8428e8c4c2170c57ffad3",
						"value": 1742
					}
				},
				"7bb5e93a94ef48b0b4bbf0aba777d460": {
					"model_module": "@jupyter-widgets/controls",
					"model_name": "HTMLModel",
					"model_module_version": "1.5.0",
					"state": {
						"_dom_classes": [],
						"_model_module": "@jupyter-widgets/controls",
						"_model_module_version": "1.5.0",
						"_model_name": "HTMLModel",
						"_view_count": null,
						"_view_module": "@jupyter-widgets/controls",
						"_view_module_version": "1.5.0",
						"_view_name": "HTMLView",
						"description": "",
						"description_tooltip": null,
						"layout": "IPY_MODEL_75ceeb42b7bd477a9b269b7f0a3bb7c3",
						"placeholder": "​",
						"style": "IPY_MODEL_f0b099d5324c45ff9cd020ea2834cf72",
						"value": " 1742/1742 [14:15&lt;00:00,  2.32it/s]"
					}
				},
				"29875b9d96ed46669bbaf0fba3c4ef49": {
					"model_module": "@jupyter-widgets/base",
					"model_name": "LayoutModel",
					"model_module_version": "1.2.0",
					"state": {
						"_model_module": "@jupyter-widgets/base",
						"_model_module_version": "1.2.0",
						"_model_name": "LayoutModel",
						"_view_count": null,
						"_view_module": "@jupyter-widgets/base",
						"_view_module_version": "1.2.0",
						"_view_name": "LayoutView",
						"align_content": null,
						"align_items": null,
						"align_self": null,
						"border": null,
						"bottom": null,
						"display": null,
						"flex": null,
						"flex_flow": null,
						"grid_area": null,
						"grid_auto_columns": null,
						"grid_auto_flow": null,
						"grid_auto_rows": null,
						"grid_column": null,
						"grid_gap": null,
						"grid_row": null,
						"grid_template_areas": null,
						"grid_template_columns": null,
						"grid_template_rows": null,
						"height": null,
						"justify_content": null,
						"justify_items": null,
						"left": null,
						"margin": null,
						"max_height": null,
						"max_width": null,
						"min_height": null,
						"min_width": null,
						"object_fit": null,
						"object_position": null,
						"order": null,
						"overflow": null,
						"overflow_x": null,
						"overflow_y": null,
						"padding": null,
						"right": null,
						"top": null,
						"visibility": null,
						"width": null
					}
				},
				"eb903a52027a4bc6ae0c3342cc449665": {
					"model_module": "@jupyter-widgets/base",
					"model_name": "LayoutModel",
					"model_module_version": "1.2.0",
					"state": {
						"_model_module": "@jupyter-widgets/base",
						"_model_module_version": "1.2.0",
						"_model_name": "LayoutModel",
						"_view_count": null,
						"_view_module": "@jupyter-widgets/base",
						"_view_module_version": "1.2.0",
						"_view_name": "LayoutView",
						"align_content": null,
						"align_items": null,
						"align_self": null,
						"border": null,
						"bottom": null,
						"display": null,
						"flex": null,
						"flex_flow": null,
						"grid_area": null,
						"grid_auto_columns": null,
						"grid_auto_flow": null,
						"grid_auto_rows": null,
						"grid_column": null,
						"grid_gap": null,
						"grid_row": null,
						"grid_template_areas": null,
						"grid_template_columns": null,
						"grid_template_rows": null,
						"height": null,
						"justify_content": null,
						"justify_items": null,
						"left": null,
						"margin": null,
						"max_height": null,
						"max_width": null,
						"min_height": null,
						"min_width": null,
						"object_fit": null,
						"object_position": null,
						"order": null,
						"overflow": null,
						"overflow_x": null,
						"overflow_y": null,
						"padding": null,
						"right": null,
						"top": null,
						"visibility": null,
						"width": null
					}
				},
				"6e1c2688cb4a497c83f327bbf4091781": {
					"model_module": "@jupyter-widgets/controls",
					"model_name": "DescriptionStyleModel",
					"model_module_version": "1.5.0",
					"state": {
						"_model_module": "@jupyter-widgets/controls",
						"_model_module_version": "1.5.0",
						"_model_name": "DescriptionStyleModel",
						"_view_count": null,
						"_view_module": "@jupyter-widgets/base",
						"_view_module_version": "1.2.0",
						"_view_name": "StyleView",
						"description_width": ""
					}
				},
				"552d7f909f5c44459d83eb98b3e8f388": {
					"model_module": "@jupyter-widgets/base",
					"model_name": "LayoutModel",
					"model_module_version": "1.2.0",
					"state": {
						"_model_module": "@jupyter-widgets/base",
						"_model_module_version": "1.2.0",
						"_model_name": "LayoutModel",
						"_view_count": null,
						"_view_module": "@jupyter-widgets/base",
						"_view_module_version": "1.2.0",
						"_view_name": "LayoutView",
						"align_content": null,
						"align_items": null,
						"align_self": null,
						"border": null,
						"bottom": null,
						"display": null,
						"flex": null,
						"flex_flow": null,
						"grid_area": null,
						"grid_auto_columns": null,
						"grid_auto_flow": null,
						"grid_auto_rows": null,
						"grid_column": null,
						"grid_gap": null,
						"grid_row": null,
						"grid_template_areas": null,
						"grid_template_columns": null,
						"grid_template_rows": null,
						"height": null,
						"justify_content": null,
						"justify_items": null,
						"left": null,
						"margin": null,
						"max_height": null,
						"max_width": null,
						"min_height": null,
						"min_width": null,
						"object_fit": null,
						"object_position": null,
						"order": null,
						"overflow": null,
						"overflow_x": null,
						"overflow_y": null,
						"padding": null,
						"right": null,
						"top": null,
						"visibility": null,
						"width": null
					}
				},
				"11c959c921b8428e8c4c2170c57ffad3": {
					"model_module": "@jupyter-widgets/controls",
					"model_name": "ProgressStyleModel",
					"model_module_version": "1.5.0",
					"state": {
						"_model_module": "@jupyter-widgets/controls",
						"_model_module_version": "1.5.0",
						"_model_name": "ProgressStyleModel",
						"_view_count": null,
						"_view_module": "@jupyter-widgets/base",
						"_view_module_version": "1.2.0",
						"_view_name": "StyleView",
						"bar_color": null,
						"description_width": ""
					}
				},
				"75ceeb42b7bd477a9b269b7f0a3bb7c3": {
					"model_module": "@jupyter-widgets/base",
					"model_name": "LayoutModel",
					"model_module_version": "1.2.0",
					"state": {
						"_model_module": "@jupyter-widgets/base",
						"_model_module_version": "1.2.0",
						"_model_name": "LayoutModel",
						"_view_count": null,
						"_view_module": "@jupyter-widgets/base",
						"_view_module_version": "1.2.0",
						"_view_name": "LayoutView",
						"align_content": null,
						"align_items": null,
						"align_self": null,
						"border": null,
						"bottom": null,
						"display": null,
						"flex": null,
						"flex_flow": null,
						"grid_area": null,
						"grid_auto_columns": null,
						"grid_auto_flow": null,
						"grid_auto_rows": null,
						"grid_column": null,
						"grid_gap": null,
						"grid_row": null,
						"grid_template_areas": null,
						"grid_template_columns": null,
						"grid_template_rows": null,
						"height": null,
						"justify_content": null,
						"justify_items": null,
						"left": null,
						"margin": null,
						"max_height": null,
						"max_width": null,
						"min_height": null,
						"min_width": null,
						"object_fit": null,
						"object_position": null,
						"order": null,
						"overflow": null,
						"overflow_x": null,
						"overflow_y": null,
						"padding": null,
						"right": null,
						"top": null,
						"visibility": null,
						"width": null
					}
				},
				"f0b099d5324c45ff9cd020ea2834cf72": {
					"model_module": "@jupyter-widgets/controls",
					"model_name": "DescriptionStyleModel",
					"model_module_version": "1.5.0",
					"state": {
						"_model_module": "@jupyter-widgets/controls",
						"_model_module_version": "1.5.0",
						"_model_name": "DescriptionStyleModel",
						"_view_count": null,
						"_view_module": "@jupyter-widgets/base",
						"_view_module_version": "1.2.0",
						"_view_name": "StyleView",
						"description_width": ""
					}
				}
			}
		}
	},
	"nbformat_minor": 4,
	"nbformat": 4,
	"cells": [
		{
			"cell_type": "markdown",
			"source": "# Parse s3 Game JSON into RoundVectors\n---",
			"metadata": {}
		},
		{
			"cell_type": "code",
			"source": "%worker_type G.1X\n%number_of_workers 5",
			"metadata": {
				"trusted": true,
				"tags": []
			},
			"execution_count": 3,
			"outputs": [
				{
					"name": "stdout",
					"text": "Welcome to the Glue Interactive Sessions Kernel\nFor more information on available magic commands, please type %help in any new cell.\n\nPlease view our Getting Started page to access the most up-to-date information on the Interactive Sessions kernel: https://docs.aws.amazon.com/glue/latest/dg/interactive-sessions.html\nInstalled kernel version: 1.0.5 \nPrevious worker type: None\nSetting new worker type to: G.1X\nPrevious number of workers: None\nSetting new number of workers to: 5\n",
					"output_type": "stream"
				}
			]
		},
		{
			"cell_type": "markdown",
			"source": "## Configuration",
			"metadata": {}
		},
		{
			"cell_type": "code",
			"source": "import time\nimport os\nimport logging\nimport sys\nimport os.path\nimport requests\nimport boto3\nimport json\n\nfrom collections import deque\nfrom io import BytesIO\nfrom enum import Enum, auto\nfrom os import listdir\nfrom decimal import Decimal\n\nimport multiprocessing as mp\nimport pandas as pd\nimport numpy as np",
			"metadata": {
				"trusted": true,
				"tags": [],
				"id": "fNhAgR5Y1AGz"
			},
			"execution_count": 2,
			"outputs": [
				{
					"name": "stdout",
					"text": "\n",
					"output_type": "stream"
				}
			]
		},
		{
			"cell_type": "code",
			"source": "logging.basicConfig(\n    format='{asctime} [{levelname}] {message}',\n    style=\"{\",\n    datefmt=\"%H:%M\",\n    level=logging.CRITICAL,\n    force=True\n)",
			"metadata": {
				"trusted": true,
				"tags": []
			},
			"execution_count": 3,
			"outputs": [
				{
					"name": "stdout",
					"text": "\n",
					"output_type": "stream"
				}
			]
		},
		{
			"cell_type": "code",
			"source": "bucket = \"actualvctdata\"",
			"metadata": {
				"trusted": true,
				"tags": []
			},
			"execution_count": 4,
			"outputs": [
				{
					"name": "stdout",
					"text": "\n",
					"output_type": "stream"
				}
			]
		},
		{
			"cell_type": "code",
			"source": "s3 = boto3.client('s3')\ndynamodb = boto3.resource('dynamodb')",
			"metadata": {
				"trusted": true,
				"tags": []
			},
			"execution_count": 5,
			"outputs": [
				{
					"name": "stdout",
					"text": "\n",
					"output_type": "stream"
				}
			]
		},
		{
			"cell_type": "code",
			"source": "def add_item_to_dynamodb(table_name, item):\n    table = dynamodb.Table(table_name)\n    response = table.put_item(Item=item)\n    return response\n\ndef read_json_from_s3(bucket_name, file):\n    response = s3.get_object(Bucket=bucket_name, Key=file)\n    content = response['Body'].read().decode('utf-8')\n\n    return json.loads(content)\n\ndef list_s3_files(bucket_name, prefix):\n    response = s3.list_objects_v2(Bucket=bucket_name, Prefix=prefix)\n\n    files = []\n    if 'Contents' in response:\n        for obj in response['Contents']:\n            files.append(obj['Key'])\n\n    return files",
			"metadata": {
				"trusted": true,
				"tags": [],
				"id": "a-Y82L1c3NQO"
			},
			"execution_count": 6,
			"outputs": [
				{
					"name": "stdout",
					"text": "\n",
					"output_type": "stream"
				}
			]
		},
		{
			"cell_type": "markdown",
			"source": "## Data Structures",
			"metadata": {}
		},
		{
			"cell_type": "code",
			"source": "maps = {\n    \"Infinity\": 'ABYSS',\n    \"Ascent\": 'ASCENT',\n    \"Duality\": 'BIND',\n    \"Foxtrot\": 'BREEZE',\n    \"Canyon\": 'FRACTURE',\n    \"Triad\": 'HAVEN',\n    \"Port\": 'ICEBOX',\n    \"Jam\": 'LOTUS',\n    \"Pitt\": 'PEARL',\n    \"Bonsai\": 'SPLIT',\n    \"Juliett\": 'SUNSET',\n}\n\nvec_fields = [\n    'ROUND_NUMBER',\n    'OUTCOME',\n    'SIDE',\n    'KILLS',\n    'DEATHS',\n    'ASSISTS',\n    'COMBAT_SCORE',\n    'KILLS_STINGER',\n    'KILLS_BUCKY',\n    'KILLS_JUDGE',\n    'KILLS_SPECTRE',\n    'KILLS_BULLDOG',\n    'KILLS_GUARDIAN',\n    'KILLS_PHANTOM',\n    'KILLS_VANDAL',\n    'KILLS_MARSHAL',\n    'KILLS_OUTLAW',\n    'KILLS_OPERATOR',\n    'KILLS_ARES',\n    'KILLS_ODIN',\n    'KILLS_CLASSIC',\n    'KILLS_SHORTY',\n    'KILLS_FRENZY',\n    'KILLS_GHOST',\n    'KILLS_SHERIFF',\n    'KILLS_MELEE',\n    'TIME_ALIVE',\n    'DEAD',\n    'DAMAGE_TAKEN',\n    'DAMAGE_DONE',\n    'SPIKE_CARRY_PERCENT',\n    'SPIKE_PLANT',\n    '''\n    'AFFINITY_ABYSS',\n    'AFFINITY_ASCENT',\n    'AFFINITY_BIND',\n    'AFFINITY_BREEZE',\n    'AFFINITY_FRACTURE',\n    'AFFINITY_HAVEN',\n    'AFFINITY_ICEBOX',\n    'AFFINITY_LOTUS',\n    'AFFINITY_PEARL',\n    'AFFINITY_SPLIT',\n    'AFFINITY_SUNSET',\n    '''\n    'ASTRA_PICK_RATE',\n    'BREACH_PICK_RATE',\n    'BRIMSTONE_PICK_RATE',\n    'CHAMBER_PICK_RATE',\n    'CYPHER_PICK_RATE',\n    'DEADLOCK_PICK_RATE',\n    'FADE_PICK_RATE',\n    'GEKKO_PICK_RATE',\n    'HARBOR_PICK_RATE',\n    'JETT_PICK_RATE',\n    'KAYO_PICK_RATE',\n    'KILLJOY_PICK_RATE',\n    'NEON_PICK_RATE',\n    'OMEN_PICK_RATE',\n    'PHOENIX_PICK_RATE',\n    'RAZE_PICK_RATE',\n    'REYNA_PICK_RATE',\n    'SAGE_PICK_RATE',\n    'SKYE_PICK_RATE',\n    'SOVA_PICK_RATE',\n    'VIPER_PICK_RATE',\n    'YORU_PICK_RATE',\n    'ISO_PICK_RATE',\n    'CLOVE_PICK_RATE',\n    'VYSE_PICK_RATE',\n    'DUELIST_PICK_RATE',\n    'INITIATOR_PICK_RATE',\n    'SENTINEL_PICK_RATE',\n    'CONTROLLER_PICK_RATE',\n    # TODO: map score\n    # TODO: win type\n]",
			"metadata": {
				"trusted": true,
				"tags": [],
				"id": "YFsCfMke1WmO"
			},
			"execution_count": 7,
			"outputs": [
				{
					"name": "stdout",
					"text": "\n",
					"output_type": "stream"
				}
			]
		},
		{
			"cell_type": "code",
			"source": "class PlayerRound:\n    def __init__(self, game_id, player_id, map):\n        # TODO: add abilities, player killed data, more damage data\n        self.metadata = {\n            'game_id': game_id,\n            'map': map,\n        }\n        self.vec = {'id': player_id}\n        for v in vec_fields:\n            self.vec[v] = 0\n\n    def update_vec(self, idx, val):\n        self.vec[idx] = val\n\n    def add_vec(self, idx, i):\n        self.vec[idx] += i\n\n    def get_vec(self, idx):\n        return self.vec[idx]\n\n    def upload(self):\n        for v in vec_fields:\n            self.vec[v] = Decimal(str(self.vec[v]))\n        self.vec['metadata'] = self.metadata\n        add_item_to_dynamodb(ddb, self.vec)\n\nclass Game:\n    def _process_event(self, event):\n        if 'snapshot' in event:\n            return\n\n        # agent_name, agent_class, side, round number\n        if 'roundStarted' in event:\n            e = event['roundStarted']\n            logging.debug(f'Round started {e}')\n\n            self._processing_round = True\n            self._curr_round_start_time = float(event['metadata']['eventTime']['omittingPauses'][:-1])\n\n            attacking_team = str(e['spikeMode']['attackingTeam']['value'])\n            # agent_name and agent_class\n            for i, p in enumerate(self.player_loc.values()):\n                pi = str(i+1)\n                self.players[pi]['player_round'] = PlayerRound(self.game_id, p, self.map)\n\n                agent = self.players[pi]['agent_name'] + '_PICK_RATE'\n                agent_class = self.players[pi]['agent_role'] + '_PICK_RATE'\n\n                self.players[pi]['player_round'].update_vec(agent, 1)\n                self.players[pi]['player_round'].update_vec(agent_class, 1)\n\n                # Set current round number\n                self.players[pi]['player_round'].update_vec('ROUND_NUMBER', e['roundNumber'])\n\n                # Set side\n                if int(pi) in self.teams[attacking_team]['players']:\n                    self.players[pi]['player_round'].update_vec('SIDE', 1)\n                else:\n                    self.players[pi]['player_round'].update_vec('SIDE', -1)\n\n            return\n\n        # Skip processing if not inside of a round\n        if not self._processing_round:\n            return\n\n        cur_time = float(event['metadata']['eventTime']['omittingPauses'][:-1])\n\n        # damage receive, damage dealt\n        if 'damageEvent' in event:\n            e = event['damageEvent']\n            logging.debug(f'Damage Event {e}')\n\n            # Set damage dealt\n            if 'causerId' in e:\n                causer = str(e['causerId']['value'])\n                self.players[causer]['player_round'].add_vec('DAMAGE_DONE', e['damageAmount'])\n\n            # Set damage received\n            victim = str(e['victimId']['value'])\n            self.players[victim]['player_round'].add_vec('DAMAGE_TAKEN', e['damageAmount'])\n\n            return\n\n        # death flag, weapon kill, time alive, kills, deaths, asissts,\n        if 'playerDied' in event:\n            e = event['playerDied']\n            time_stamp = float(event['metadata']['eventTime']['omittingPauses'][:-1])\n            logging.debug(f'Player Died {e}')\n\n            # Set death flag and death counter\n            dead_player = str(e['deceasedId']['value'])\n            self.players[dead_player]['player_round'].update_vec('DEAD', 1)\n            self.players[dead_player]['player_round'].add_vec('DEATHS', 1)\n\n            # Set time alive\n            time_alive = time_stamp - self._curr_round_start_time\n            self.players[dead_player]['player_round'].update_vec('TIME_ALIVE', time_alive)\n\n            # Update weapon kill tracker and kill counter\n            killer = str(e['killerId']['value'])\n            self.players[killer]['player_round'].add_vec('KILLS', 1)\n            if 'weapon' in e:\n                weapon_guid = e['weapon']['fallback']['guid']\n                if weapon_guid == \"\":\n                    self.players[killer]['player_round'].add_vec('KILLS_MELEE', 1)\n                else:\n                    g = requests.get(f'https://valorant-api.com/v1/weapons/{weapon_guid}')\n                    wkey = 'KILLS_' + g.json()['data']['displayName'].upper()\n                    self.players[killer]['player_round'].add_vec(wkey, 1)\n\n            # Update assist counter\n            if 'assistants' in e:\n                for a in e['assistants']:\n                    assister = str(a['assistantId']['value'])\n                    self.players[assister]['player_round'].add_vec('ASSISTS', 1)\n            return\n\n        # spike plant, spike carry time, spike defuse\n        if 'spikeStatus' in event:\n            e = event['spikeStatus']\n            logging.debug(f'Spike Status {e}')\n\n            # Set spike plant flag and update spike carry time and spike defuse flag\n            if e['status'] == \"IN_HANDS\" and 'carrier' in e:\n                if not 'carrier' in e:\n                    logging.warning(\"SPIKE IN_HANDS event with no carrier found\")\n                else:\n                    self._curr_spike_carrier = str(e['carrier']['value'])\n                self._curr_spike_pickup_stamp = float(event['metadata']['eventTime']['omittingPauses'][:-1])\n            elif e['status'] == \"PLANTED\":\n                self.players[self._curr_spike_carrier]['player_round'].update_vec('SPIKE_PLANT', 1)\n                self.players[self._curr_spike_carrier]['player_round'].add_vec('SPIKE_CARRY_PERCENT', cur_time - self._curr_spike_pickup_stamp)\n            elif e['status'] == \"ON_GROUND\":\n                self.players[self._curr_spike_carrier]['player_round'].add_vec('SPIKE_CARRY_PERCENT', cur_time - self._curr_spike_pickup_stamp)\n\n            return\n\n        # combat score, outcome, time alive, noramlize spike carry time\n        if 'roundDecided' in event:\n            e = event['roundDecided']\n            logging.debug(f'Round Decided {e}')\n\n            round_length = cur_time - self._curr_round_start_time\n            winning_team = str(e['result']['winningTeam']['value'])\n            for p in self.players:\n                # Set outcome\n                if int(p) in self.teams[winning_team]['players']:\n                    self.players[p]['player_round'].update_vec('OUTCOME', 1)\n                else:\n                    self.players[p]['player_round'].update_vec('OUTCOME', -1)\n\n                # Set time alive\n                if self.players[p]['player_round'].get_vec('DEAD') == 0:\n                    self.players[p]['player_round'].add_vec('TIME_ALIVE', round_length)\n\n                # Normalize spike time\n                spike_time = self.players[p]['player_round'].get_vec('SPIKE_CARRY_PERCENT')\n                self.players[p]['player_round'].update_vec('SPIKE_CARRY_PERCENT', spike_time / round_length)\n\n\n            round_end_stamp = float(event['metadata']['eventTime']['omittingPauses'][:-1])\n            while 'snapshot' not in event:\n                event = self.event_feed.popleft()\n\n            e = event['snapshot']\n\n            # Set combat score\n            for p in e['players']:\n                player = str(p['playerId']['value'])\n                self.players[player]['player_round'].update_vec('COMBAT_SCORE', p['scores']['combatScore']['roundScore'])\n\n            self._processing_round = False\n            self._curr_round_start_time = None\n            self._curr_spike_carrier = None\n            self._curr_spike_pickup_stamp = None\n            self._curr_round_start_time = None\n\n            for p in self.players.values():\n                p['player_round'].upload()\n\n            return\n\n\n    def __init__(self, file):\n        self.name = file.split('/')[-1]\n        self.players = dict()\n        self.teams = dict()\n        self._curr_round_start_time = None\n        self._curr_spike_carrier = None\n        self._curr_spike_pickup_stamp = None\n        self._curr_round_start_time = None\n        self._processing_round = False\n\n        logging.warning(f\"Ingesting {self.name}\")\n        j = read_json_from_s3(bucket, file)\n\n        self.event_feed = deque(j)\n\n        first_event = self.event_feed.popleft()\n\n        self.game_id = first_event['platformGameId']\n\n        self.player_loc = mapping_df.loc[mapping_df['platformGameId'] == self.game_id, 'participantMapping'].values[0]\n\n        second_event = self.event_feed.popleft()\n\n        for i, p in enumerate(self.player_loc.values()):\n            self.players[str(i+1)] = {\n                'player_round': None,\n                'agent_name': \"\",\n                'agent_role': \"\",\n            }\n\n        self.map = maps[second_event['configuration']['selectedMap']['fallback']['displayName']]\n\n        self.player_agents = dict()\n        for i, p in enumerate(second_event['configuration']['players']):\n            agent_guid = p['selectedAgent']['fallback']['guid']\n            agent_data = requests.get(f'https://valorant-api.com/v1/agents/{agent_guid}')\n            self.players[str(p['playerId']['value'])]['agent_name'] = agent_data.json()['data']['displayName'].upper()\n            self.players[str(p['playerId']['value'])]['agent_role'] = agent_data.json()['data']['role']['displayName'].upper()\n\n        teamid = str(second_event['configuration']['teams'][0]['teamId']['value'])\n        self.teams[teamid] = dict()\n        self.teams[teamid]['players'] = [p['value'] for p in second_event['configuration']['teams'][0]['playersInTeam']]\n        self.teams[teamid]['name'] = team_df.iloc[second_event['configuration']['teams'][0]['teamId']['value']]['slug']\n\n        teamid = str(second_event['configuration']['teams'][1]['teamId']['value'])\n        self.teams[teamid] = dict()\n        self.teams[teamid]['players'] = [p['value'] for p in second_event['configuration']['teams'][1]['playersInTeam']]\n        self.teams[teamid]['name'] = team_df.iloc[second_event['configuration']['teams'][1]['teamId']['value']]['slug']\n\n        # ingest events\n        logging.info(f\"Ingesting events for {self.name}\")\n        while len(self.event_feed) != 0:\n            current_event = self.event_feed.popleft()\n            self._process_event(current_event)\n        logging.info(f\"Done ingesting events for {self.name}\")",
			"metadata": {
				"trusted": true,
				"tags": [],
				"id": "CX4Z0yNk1Z8t"
			},
			"execution_count": 8,
			"outputs": [
				{
					"name": "stdout",
					"text": "\n",
					"output_type": "stream"
				}
			]
		},
		{
			"cell_type": "markdown",
			"source": "## GLUEEEEE",
			"metadata": {}
		},
		{
			"cell_type": "markdown",
			"source": "### Single Shot",
			"metadata": {}
		},
		{
			"cell_type": "code",
			"source": "Game('vct-international/games/2022/val:273de7c3-0541-438e-b663-c8c23767b3e4.json')\nprint('Done')",
			"metadata": {
				"trusted": true,
				"tags": [],
				"colab": {
					"base_uri": "https://localhost:8080/"
				},
				"id": "A6cKSdfmSu0D",
				"outputId": "8c18eee3-4840-4c63-c6bd-0bc5cc5cfd18"
			},
			"execution_count": 46,
			"outputs": [
				{
					"name": "stdout",
					"text": "Done\n",
					"output_type": "stream"
				}
			]
		},
		{
			"cell_type": "markdown",
			"source": "### OH YEAH BABY",
			"metadata": {}
		},
		{
			"cell_type": "code",
			"source": "# # (game-changers, vct-international, vct-challengers)\n# leagues = {\n#     'game-changers': 'RoundVec-Change',\n#     'vct-international': 'RoundVec-VctInt',\n#     'vct-challengers': 'RoundVec-VctChal',\n# }\n\n# # (2022, 2023, 2024)\n# years = [2022, 2023, 2024]\n\n# (game-changers, vct-international, vct-challengers)\nleagues = {\n    'vct-international': 'RoundVec-VctInt',\n}\n\n# (2022, 2023, 2024)\nyears = [2022]",
			"metadata": {
				"trusted": true
			},
			"execution_count": 9,
			"outputs": [
				{
					"name": "stdout",
					"text": "\n",
					"output_type": "stream"
				}
			]
		},
		{
			"cell_type": "code",
			"source": "def consume_game(g):\n    Game(f'{LEAGUE}/games/{YEAR}/{g}')\n\ndef gogogo():   \n    for LEAGUE, ddb in leagues.items():\n        for YEAR in years:\n\n            player_df = pd.DataFrame(read_json_from_s3(bucket, f'{LEAGUE}/esports-data/players.json'))\n            mapping_df = pd.DataFrame(read_json_from_s3(bucket, f'{LEAGUE}/esports-data/mapping_data.json'))\n            team_df = pd.DataFrame(read_json_from_s3(bucket, f'{LEAGUE}/esports-data/teams.json'))\n            tournament_df = pd.DataFrame(read_json_from_s3(bucket, f'{LEAGUE}/esports-data/tournaments.json'))\n            league_df = pd.DataFrame(read_json_from_s3(bucket, f'{LEAGUE}/esports-data/leagues.json'))\n\n            game_files = list_s3_files(bucket, f'{LEAGUE}/games/{YEAR}')\n                                     \n            start = time.time()\n            num_processes = 40\n            with mp.Pool(processes=num_processes) as pool:\n                pool.map(consume_game, game_files)\n\n            delta = time.time() - start\n            print(f'parallel ingestion took {delta:0.2f} seconds')",
			"metadata": {
				"trusted": true,
				"tags": []
			},
			"execution_count": 25,
			"outputs": [
				{
					"name": "stdout",
					"text": "\n",
					"output_type": "stream"
				}
			]
		},
		{
			"cell_type": "code",
			"source": "gogogo()",
			"metadata": {
				"trusted": true,
				"tags": []
			},
			"execution_count": 26,
			"outputs": [
				{
					"name": "stdout",
					"text": "PicklingError: Can't pickle <function consume_game at 0x7fa9f3fb56c0>: attribute lookup consume_game on __main__ failed\n",
					"output_type": "stream"
				}
			]
		},
		{
			"cell_type": "code",
			"source": "from pyspark.sql import SparkSession\nspark = SparkSession.builder.appName(\"Esports Ingestion\").getOrCreate()\ncores = spark.sparkContext.defaultParallelism\nprint(f'Number of cores in Spark cluster: {cores}')\n\ndef plist(p):\n    print(p)\n    \ntest_list = spark.sparkContext.parallelize(list(range(1000)))\nstart = time.time()\ntest_list.foreach(plist)\nprint(time.time()-start)\n",
			"metadata": {
				"trusted": true,
				"tags": []
			},
			"execution_count": 33,
			"outputs": [
				{
					"name": "stdout",
					"text": "Number of cores in Spark cluster: 16\n10.667598247528076\n",
					"output_type": "stream"
				}
			]
		},
		{
			"cell_type": "code",
			"source": "",
			"metadata": {},
			"execution_count": null,
			"outputs": []
		}
	]
}